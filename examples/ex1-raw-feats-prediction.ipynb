{
 "cells": [
  {
   "cell_type": "code",
   "execution_count": null,
   "metadata": {},
   "outputs": [],
   "source": []
  },
  {
   "cell_type": "code",
   "execution_count": 1,
   "metadata": {},
   "outputs": [],
   "source": [
    "import numpy as np \n",
    "\n",
    "from mldb import ComputationGraph"
   ]
  },
  {
   "cell_type": "code",
   "execution_count": 2,
   "metadata": {},
   "outputs": [],
   "source": [
    "def load_data(N, D, rng): \n",
    "    return rng.normal(0, 1, (N, D))\n",
    "\n",
    "def extract_features(data, features): \n",
    "    return np.concatenate([\n",
    "        feat(data, axis=1, keepdims=True) for feat in features\n",
    "    ], axis=1)\n",
    "\n",
    "def get_weights(D): \n",
    "    return np.random.normal(0, 1, (D, 1)) / 4, 0.5\n",
    "\n",
    "def dot_add(feats, wb): \n",
    "    w, b = wb \n",
    "    return feats.dot(w) + b\n",
    "\n",
    "def sigmoid(z_score): \n",
    "    return 1.0 / (1.0 + np.exp(-z_score))\n",
    "\n",
    "feat_funcs = [np.min, np.max, np.std, np.mean, np.median, np.ptp]"
   ]
  },
  {
   "cell_type": "code",
   "execution_count": 3,
   "metadata": {},
   "outputs": [],
   "source": [
    "graph = ComputationGraph()\n",
    "\n",
    "# Define a random seed \n",
    "rng = graph.node(\n",
    "    func=lambda: np.random.RandomState(1234)\n",
    ")\n",
    "\n",
    "# Generate some random data\n",
    "data = graph.node(\n",
    "    func=load_data, \n",
    "    rng=rng,\n",
    "    N=10000, D=3\n",
    ")\n",
    "\n",
    "# Extract features from the data\n",
    "features = graph.node(\n",
    "    func=extract_features, \n",
    "    data=data, \n",
    "    features=feat_funcs\n",
    ")\n",
    "\n",
    "# Generate parameters for a linear model\n",
    "params = graph.node(\n",
    "    func=get_weights, \n",
    "    D=len(feat_funcs)\n",
    ")\n",
    "\n",
    "# Inner product between features and weights\n",
    "z_score = graph.node(\n",
    "    func=dot_add, \n",
    "    feats=features, wb=params\n",
    ")\n",
    "\n",
    "# Go from the score to the predictions\n",
    "predictions = graph.node(\n",
    "    func=sigmoid, \n",
    "    z_score=z_score\n",
    ")"
   ]
  },
  {
   "cell_type": "code",
   "execution_count": 4,
   "metadata": {},
   "outputs": [
    {
     "name": "stdout",
     "output_type": "stream",
     "text": [
      "e2b19f2f-3fcc-45f2-817d-d417adb30308\n",
      "<NodeWrapper sources=[] kwargs=[] factor=<lambda> sink=e2b19f2f-3fcc-45f2-817d-d417adb30308>\n",
      "RandomState(MT19937)\n",
      "\n",
      "b04e4752-3011-47f5-b429-a4e90b032eea\n",
      "<NodeWrapper sources=[rng] kwargs=[N,D] factor=load_data sink=b04e4752-3011-47f5-b429-a4e90b032eea>\n",
      "[[ 0.47143516 -1.19097569  1.43270697]\n",
      " [-0.3126519  -0.72058873  0.88716294]\n",
      " [ 0.85958841 -0.6365235   0.01569637]\n",
      " ...\n",
      " [ 0.21585284  0.12923273 -0.29803653]\n",
      " [ 0.34074804  1.75820379  0.0025372 ]\n",
      " [ 1.24617813  0.61897186 -0.50800977]]\n",
      "\n",
      "b487cc62-b83c-4810-8307-0bcf23e55c34\n",
      "<NodeWrapper sources=[data] kwargs=[features] factor=extract_features sink=b487cc62-b83c-4810-8307-0bcf23e55c34>\n",
      "[[-1.19097569e+00  1.43270697e+00  1.08378781e+00  2.37722146e-01\n",
      "   4.71435164e-01  2.62368266e+00]\n",
      " [-7.20588733e-01  8.87162940e-01  6.82384182e-01 -4.86925630e-02\n",
      "  -3.12651896e-01  1.60775167e+00]\n",
      " [-6.36523504e-01  8.59588414e-01  6.12453664e-01  7.95870938e-02\n",
      "   1.56963721e-02  1.49611192e+00]\n",
      " ...\n",
      " [-2.98036531e-01  2.15852840e-01  2.24634109e-01  1.56830116e-02\n",
      "   1.29232725e-01  5.13889371e-01]\n",
      " [ 2.53720210e-03  1.75820379e+00  7.60550423e-01  7.00496343e-01\n",
      "   3.40748042e-01  1.75566658e+00]\n",
      " [-5.08009771e-01  1.24617813e+00  7.25767829e-01  4.52380071e-01\n",
      "   6.18971861e-01  1.75418790e+00]]\n",
      "\n",
      "d1164e1c-7ff8-4ffc-8e46-be7e2c0b131b\n",
      "<NodeWrapper sources=[] kwargs=[] factor=get_weights sink=d1164e1c-7ff8-4ffc-8e46-be7e2c0b131b>\n",
      "(array([[-0.03104644],\n",
      "       [ 0.51968081],\n",
      "       [ 0.05740744],\n",
      "       [-0.2493174 ],\n",
      "       [ 0.17889933],\n",
      "       [-0.38354342]]), 0.5)\n",
      "\n",
      "80f967e7-c503-4748-baed-d8909634ff10\n",
      "<NodeWrapper sources=[feats,wb] kwargs=[] factor=dot_add sink=80f967e7-c503-4748-baed-d8909634ff10>\n",
      "[[0.3625183 ]\n",
      " [0.36215131]\n",
      " [0.41077452]\n",
      " ...\n",
      " [0.45643393]\n",
      " [0.67022654]\n",
      " [0.53019142]]\n",
      "\n",
      "643ed236-2116-44eb-a64a-7fe66772329d\n",
      "<NodeWrapper sources=[z_score] kwargs=[] factor=sigmoid sink=643ed236-2116-44eb-a64a-7fe66772329d>\n",
      "[[0.58964991]\n",
      " [0.5895611 ]\n",
      " [0.60127358]\n",
      " ...\n",
      " [0.61216787]\n",
      " [0.66155388]\n",
      " [0.62952776]]\n",
      "\n"
     ]
    }
   ],
   "source": [
    "for key, value in graph.nodes.items(): \n",
    "    print(key) \n",
    "    print(value) \n",
    "    print(value.evaluate())\n",
    "    print()"
   ]
  },
  {
   "cell_type": "code",
   "execution_count": null,
   "metadata": {},
   "outputs": [],
   "source": []
  },
  {
   "cell_type": "code",
   "execution_count": null,
   "metadata": {},
   "outputs": [],
   "source": []
  },
  {
   "cell_type": "code",
   "execution_count": null,
   "metadata": {},
   "outputs": [],
   "source": []
  },
  {
   "cell_type": "code",
   "execution_count": null,
   "metadata": {},
   "outputs": [],
   "source": []
  },
  {
   "cell_type": "code",
   "execution_count": null,
   "metadata": {},
   "outputs": [],
   "source": []
  },
  {
   "cell_type": "code",
   "execution_count": null,
   "metadata": {},
   "outputs": [],
   "source": []
  },
  {
   "cell_type": "code",
   "execution_count": null,
   "metadata": {},
   "outputs": [],
   "source": []
  },
  {
   "cell_type": "code",
   "execution_count": null,
   "metadata": {},
   "outputs": [],
   "source": []
  },
  {
   "cell_type": "code",
   "execution_count": null,
   "metadata": {},
   "outputs": [],
   "source": []
  }
 ],
 "metadata": {
  "kernelspec": {
   "display_name": "Python 3",
   "language": "python",
   "name": "python3"
  },
  "language_info": {
   "codemirror_mode": {
    "name": "ipython",
    "version": 3
   },
   "file_extension": ".py",
   "mimetype": "text/x-python",
   "name": "python",
   "nbconvert_exporter": "python",
   "pygments_lexer": "ipython3",
   "version": "3.6.7"
  }
 },
 "nbformat": 4,
 "nbformat_minor": 2
}
